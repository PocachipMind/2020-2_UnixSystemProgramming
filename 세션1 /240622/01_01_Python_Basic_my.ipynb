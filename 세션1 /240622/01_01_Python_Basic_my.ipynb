{
  "nbformat": 4,
  "nbformat_minor": 0,
  "metadata": {
    "colab": {
      "provenance": [],
      "include_colab_link": true
    },
    "kernelspec": {
      "name": "python3",
      "display_name": "Python 3"
    },
    "language_info": {
      "name": "python"
    }
  },
  "cells": [
    {
      "cell_type": "markdown",
      "metadata": {
        "id": "view-in-github",
        "colab_type": "text"
      },
      "source": [
        "<a href=\"https://colab.research.google.com/github/PocachipMind/2020-2_UnixSystemProgramming/blob/main/%EC%84%B8%EC%85%981%20/240622/01_01_Python_Basic_my.ipynb\" target=\"_parent\"><img src=\"https://colab.research.google.com/assets/colab-badge.svg\" alt=\"Open In Colab\"/></a>"
      ]
    },
    {
      "cell_type": "markdown",
      "source": [
        "# Python 기초\n",
        "- 대상: 프로그래밍이 처음인 사람\n",
        "- 목표: Python 기초 문법과 주피터 노트북 사용법을 습득하고, 간단한 프로그램을 작성할 수 있음.\n",
        "- 도구: Jupyter Notebook, Colab\n"
      ],
      "metadata": {
        "id": "2mVZenSExeLN"
      }
    },
    {
      "cell_type": "markdown",
      "source": [
        "# 1. Python 소개\n",
        "\n",
        "- 1991년 네덜란드의 귀도 반 로섬(Guido van Rossum)이 개발\n",
        "- C, C++, 자바 등의 프로그래밍 언어보다 배우기 쉬움\n",
        "- 직관적이고 이해하기 쉬운 문법\n",
        "- 객체지향의 고수준 언어\n",
        "- 인공지능, 데이터 분석, 웹 서버, 과학 연산 등의 프로그램 개발에 사용 가능\n",
        "- 스트립트 언어\n",
        "  - 코드를 작성하면 인터프리터가 코드를 기계어로 번역하면서 실행\n",
        "  - C, C++은 컴파일 언어, 코드를 작성하면 컴파일러가 기계어로 작성\n"
      ],
      "metadata": {
        "id": "8G9bnCZeyFo9"
      }
    },
    {
      "cell_type": "markdown",
      "source": [
        "- 프로그램 예시\n",
        "\n",
        "\n",
        "\n",
        "```\n",
        "print(\"Hello Python!\")\n",
        "```"
      ],
      "metadata": {
        "id": "KbPX2Fp6ThmF"
      }
    },
    {
      "cell_type": "code",
      "execution_count": null,
      "metadata": {
        "id": "j9y2ZQtLxJxm",
        "colab": {
          "base_uri": "https://localhost:8080/"
        },
        "outputId": "c08afd36-c846-4237-9cca-74e113edde2b"
      },
      "outputs": [
        {
          "output_type": "stream",
          "name": "stdout",
          "text": [
            "Hello Py\n"
          ]
        }
      ],
      "source": [
        "print(\"Hello Py\")"
      ]
    },
    {
      "cell_type": "markdown",
      "source": [
        "- 파이썬 스크립트 실행 예시\n",
        "\n",
        "\n",
        "test.py\n",
        "\n",
        "```\n",
        "print(\"Hello Python!\")\n",
        "```\n",
        "\n",
        "\n",
        "\n",
        "```\n",
        "$ python test.py\n",
        "```\n",
        "\n"
      ],
      "metadata": {
        "id": "Z1qRc9VVbMLW"
      }
    },
    {
      "cell_type": "code",
      "source": [
        "!echo \"print(\\\"Hello Python!\\\")\" >> test.py\n",
        "!python test.py"
      ],
      "metadata": {
        "id": "fAMG3yGBbfW_",
        "colab": {
          "base_uri": "https://localhost:8080/"
        },
        "outputId": "f5cac2bd-5c0c-4b8a-b6fe-120b93f7f2c6"
      },
      "execution_count": null,
      "outputs": [
        {
          "output_type": "stream",
          "name": "stdout",
          "text": [
            "Hello Python!\n"
          ]
        }
      ]
    },
    {
      "cell_type": "markdown",
      "source": [
        "## 1.1 Python의 특징\n",
        "\n",
        "- 프로그래밍이란 인산이 생각하는 것을 컴퓨터가 실행할 수 있도록 지시하는 행위를 의미함\n",
        "- 파이썬은 사람이 생각하는 방식을 그대로 표현할 수 있음\n",
        "\n",
        "\n",
        "```\n",
        "if 2 in [0, 1, 2, 3]: print(\"2가 있습니다.\")\n",
        "```\n",
        "- 위의 코드는 아래와 같이 해석할 수 있음\n",
        "\n",
        "```\n",
        "만약 2가 [0, 1, 2, 3] 중에 있으면 \"2가 있습니다.\"를 출력  \n",
        "```\n",
        "\n",
        "- 문법이 쉬워서 빠르게 배울 수 있음\n",
        "- 개발 속도가 빠름"
      ],
      "metadata": {
        "id": "IrLJh71fx-bH"
      }
    },
    {
      "cell_type": "markdown",
      "source": [
        "# 2. Python의 자료형 (데이터 타입)\n",
        "\n",
        "\n"
      ],
      "metadata": {
        "id": "nb8aS7kKbrM2"
      }
    },
    {
      "cell_type": "markdown",
      "source": [
        "## 2.1 변수\n",
        "- 변수\n",
        " - 변수는 저장하기 위한 공간으로, 특정 값에 이름을 붙여서 사용.\n",
        " - 변수를 사용하면 값을 쉽게 저장하고 재사용할 수 있음\n",
        " - 예시\n",
        "\n",
        "```\n",
        "variable_a = 1024\n",
        "variable_b = 512\n",
        "variable_c = variable_a + variable_b\n",
        "```\n",
        " - 자료형\n",
        "  - 변수로 사용할 수 있는 자료(데이터)의 형태\n",
        "  - Python에서는 크게 숫자, 문자, 리스트, 튜플, 딕셔너리, 집합, 불리안 등이 있음\n"
      ],
      "metadata": {
        "id": "4Hw1R0xuIzca"
      }
    },
    {
      "cell_type": "markdown",
      "source": [
        "\n",
        "\n",
        "## 2.2 숫자\n",
        "- 정수: 소수점이 없는 숫자, 예: 10, -3, 1e2\n",
        "- 실수: 소수점이 있는 숫자, 예: 3.14, 10.5, 1e-2 등\n",
        "- 16진수: 16진법으로 표현하는 수, 0123456789ABCEDF 가 한 자리에 있음, 예: 0xFF, 0x5B 등\n",
        "\n",
        "```\n",
        "int_var = 10\n",
        "float_var = 1e-2\n",
        "hexa_var = 0xFF\n",
        "print(\"정수: \", int_var)\n",
        "print(\"실수: \", float_var)\n",
        "print(\"16진수: \", hexa_var)\n",
        "```\n",
        "\n"
      ],
      "metadata": {
        "id": "033DI0uXzcXi"
      }
    },
    {
      "cell_type": "code",
      "source": [
        "int_var = 10\n",
        "float_var = 1e-2\n",
        "hexa_var = 0xFF\n",
        "print(\"정수: \", int_var)\n",
        "print(\"실수: \", float_var)\n",
        "print(\"16진수: \", hexa_var)"
      ],
      "metadata": {
        "id": "wv0cBF2f0an4",
        "colab": {
          "base_uri": "https://localhost:8080/"
        },
        "outputId": "c27058b6-4181-4c04-808c-52eaf0cf5437"
      },
      "execution_count": null,
      "outputs": [
        {
          "output_type": "stream",
          "name": "stdout",
          "text": [
            "정수:  10\n",
            "실수:  0.01\n",
            "16진수:  255\n"
          ]
        }
      ]
    },
    {
      "cell_type": "markdown",
      "source": [
        "### 숫자형을 활용하기 위한 연산자\n"
      ],
      "metadata": {
        "id": "QCF6JoMO0clE"
      }
    },
    {
      "cell_type": "markdown",
      "source": [
        "\n",
        "#### 사칙연산\n",
        "\n",
        "- 기초적인 사칙연산 `+`, `-`, `*`, `/`을 의미.\n",
        "- 계산기와 마찬가지로 다음처럼 연산자를 이용한 사칙 연산을 수행할 수 있음\n",
        "\n",
        "```\n",
        "a = 3\n",
        "b = 4\n",
        "\n",
        "print(a+b)\n",
        "print(a-b)\n",
        "print(a*b)\n",
        "print(a/b)\n",
        "```"
      ],
      "metadata": {
        "id": "exDXljVMIjwr"
      }
    },
    {
      "cell_type": "code",
      "source": [],
      "metadata": {
        "id": "ckmUSmnn04Sb"
      },
      "execution_count": null,
      "outputs": []
    },
    {
      "cell_type": "markdown",
      "source": [
        "#### x의 y제곱을 의미하는 ** 연산자\n",
        "\n",
        "x의 y제곱 ( x^y ) 를 계산하기 위해 `x ** y` 연산을 사용\n",
        "\n",
        "```\n",
        "print( 2 ** 3 )\n",
        "print( 2 * 2 * 2 )\n",
        "```"
      ],
      "metadata": {
        "id": "weQabjde02HF"
      }
    },
    {
      "cell_type": "code",
      "source": [
        "print( 2 ** 3 )\n",
        "print( 2 * 2 * 2 )"
      ],
      "metadata": {
        "id": "ksNfEiZz04-g",
        "colab": {
          "base_uri": "https://localhost:8080/"
        },
        "outputId": "dd580a9d-5c3f-4b1b-aa58-e869a5ca87ea"
      },
      "execution_count": null,
      "outputs": [
        {
          "output_type": "stream",
          "name": "stdout",
          "text": [
            "8\n",
            "8\n"
          ]
        }
      ]
    },
    {
      "cell_type": "markdown",
      "source": [
        "#### 나눗셈 후 나머지를 반환하는 % 연산자\n",
        "\n",
        "- 5를 2로 나누면 나머지는 1\n",
        "\n",
        "```\n",
        "print( 5 % 2 )\n",
        "```"
      ],
      "metadata": {
        "id": "HrAf5llS1RVT"
      }
    },
    {
      "cell_type": "code",
      "source": [
        "print( 5 % 2 )"
      ],
      "metadata": {
        "id": "KSF-vbFp1pUV",
        "colab": {
          "base_uri": "https://localhost:8080/"
        },
        "outputId": "78ad8484-9fa8-49a3-b560-fe95104cccd7"
      },
      "execution_count": null,
      "outputs": [
        {
          "output_type": "stream",
          "name": "stdout",
          "text": [
            "1\n"
          ]
        }
      ]
    },
    {
      "cell_type": "markdown",
      "source": [
        "#### 나눗셈 후 몫을 반환하는 // 연산자\n",
        "- 5를 2로 나누면 몫은 2\n",
        "\n",
        "```\n",
        "print( 5 // 2 )\n",
        "```"
      ],
      "metadata": {
        "id": "MdYVi5z_1o3T"
      }
    },
    {
      "cell_type": "code",
      "source": [
        "print( 5 // 2 )"
      ],
      "metadata": {
        "id": "LkFb-TIM11zK",
        "colab": {
          "base_uri": "https://localhost:8080/"
        },
        "outputId": "7d13daff-2d07-4a31-965a-7ec76a6f3c76"
      },
      "execution_count": null,
      "outputs": [
        {
          "output_type": "stream",
          "name": "stdout",
          "text": [
            "2\n"
          ]
        }
      ]
    },
    {
      "cell_type": "markdown",
      "source": [
        "#### 복합 연산자\n",
        "\n",
        "- 앞서 살펴본 `+`, `-`와 같은 산술 연산자와 대입 연산자 `=` 를 함께 사용하는 것\n",
        "- 아래의 두 연산은 같은 결과를 가지게 됨\n",
        "\n",
        "```\n",
        "a = 1\n",
        "a = a + 1\n",
        "print(a)\n",
        "```\n",
        "\n",
        "```\n",
        "a = 1\n",
        "a += 1\n",
        "print(a)\n",
        "```\n",
        "- 복합 연산자는 아래와 같은 종류가 있음\n",
        "\n",
        "```\n",
        "+=, -=, *=, /=, //=, %=, **=\n",
        "```"
      ],
      "metadata": {
        "id": "zBf3Y_6y120O"
      }
    },
    {
      "cell_type": "code",
      "source": [],
      "metadata": {
        "id": "_F_yxv0aMMNd"
      },
      "execution_count": null,
      "outputs": []
    },
    {
      "cell_type": "markdown",
      "source": [
        "### 실습\n",
        "- 변수 명 `삼성전자주식`으로 50000을 입력하시오\n",
        "- 삼성전자주식이 10 주 있을 때 총 평가 금액을 출력하시오"
      ],
      "metadata": {
        "id": "SR14m6PIMJ_0"
      }
    },
    {
      "cell_type": "code",
      "source": [
        "삼성전자주식 = 50000\n",
        "print(삼성전자주식 * 10)"
      ],
      "metadata": {
        "id": "1aLGHgMEMKx8",
        "colab": {
          "base_uri": "https://localhost:8080/"
        },
        "outputId": "bfec1c4b-f928-43ee-c2c0-14eeed304db6"
      },
      "execution_count": null,
      "outputs": [
        {
          "output_type": "stream",
          "name": "stdout",
          "text": [
            "500000\n"
          ]
        }
      ]
    },
    {
      "cell_type": "markdown",
      "source": [
        "## 2.3 문자열\n",
        "- 연속된 문자들의 나열을 의미"
      ],
      "metadata": {
        "id": "pyNptMSdkpVd"
      }
    },
    {
      "cell_type": "markdown",
      "source": [
        "### 문자열 생성하기\n",
        "\n",
        "```\n",
        "\"Life is too short, You need Python\"\n",
        "'Seoul, 2024'\n",
        "\"\"\"\n",
        "이것은\n",
        "여러 줄을 표현할 수 있는\n",
        "문자열 표기 방식\n",
        "\"\"\"\n",
        "'''\n",
        "이것도\n",
        "여러 줄을 표현할 수 있는\n",
        "문자열 표기 방식\n",
        "'''\n",
        "\"문자열 안에 '작은따옴표' 넣기\"\n",
        "```\n",
        "- 파이썬에서 문자열을 만드는 방법은 총 네가지가 있음\n",
        "  - 큰 따옴표로 양쪽 둘러싸기\n",
        "  - 작은 따옴표로 양쪽 둘러싸기\n",
        "  - 큰 따옴표 3개를 연속으로 써서 양쪽 둘러싸기\n",
        "  - 작은 따옴표 3개를 연속으로 써서 양쪽 둘러싸기"
      ],
      "metadata": {
        "id": "7c45yfk5In5U"
      }
    },
    {
      "cell_type": "markdown",
      "source": [
        "- 문자열 안에 작은 따옴표나 큰 따옴표 포함시킬 때\n",
        "  - 아래의 문자열 표기 방식은 에러가 발생할 수 있음\n",
        "```\n",
        "a_sentence = \"He says, \"Hello World\"\"\n",
        "```\n",
        "  - 아래와 같이 바꾸면 정상적으로 문자열을 사용할 수 있음\n",
        "```\n",
        "a_sentence = \"He says, 'Hello World'\"\n",
        "a_sentence = 'He says, \"Hello World\"'\n",
        "a_sentence = \"He says, \\\"Hello World\\\"\"\n",
        "a_sentence = 'He says, \\'Hello World\\''\n",
        "```"
      ],
      "metadata": {
        "id": "AgmBEEXnA5Yu"
      }
    },
    {
      "cell_type": "code",
      "source": [
        "a_sentence = \"He says, \\\"Hello World\\\"\""
      ],
      "metadata": {
        "id": "pe0-nO_M1pKx"
      },
      "execution_count": null,
      "outputs": []
    },
    {
      "cell_type": "markdown",
      "source": [
        "### 여러 줄인 문자열을 변수로 사용하고자 할 때\n",
        "  - 줄을 바꾸기 위한 `\\n`을 사용하거나, 따옴표 세 쌍 혹은 쌍따옴표 세 쌍을 사용\n",
        "```\n",
        "multiline_sentence = '''여러 줄을 표현하는\n",
        "방법'''\n",
        "multiline_sentence = \"여러 줄을 표현하는\\n방법\"\n",
        "```"
      ],
      "metadata": {
        "id": "MpWwnVeABAs4"
      }
    },
    {
      "cell_type": "code",
      "source": [
        "multiline_sentence = '''여러 줄을 표현하는\n",
        "방법'''\n",
        "print(multiline_sentence)\n",
        "multiline_sentence = \"여러 줄을 표현하는\\n방법\"\n",
        "print(multiline_sentence)"
      ],
      "metadata": {
        "id": "KAjzacB9BCtv",
        "colab": {
          "base_uri": "https://localhost:8080/"
        },
        "outputId": "5c8f003f-610e-4935-f827-1376b5f406ea"
      },
      "execution_count": null,
      "outputs": [
        {
          "output_type": "stream",
          "name": "stdout",
          "text": [
            "여러 줄을 표현하는\n",
            "방법\n",
            "여러 줄을 표현하는\n",
            "방법\n"
          ]
        }
      ]
    },
    {
      "cell_type": "markdown",
      "source": [
        "### 문자열 연산하기\n",
        "  -  문자열 더해서 연결하기\n",
        "```\n",
        "head = \"Py\"\n",
        "tail = \"thon\"\n",
        "print(head + tail)\n",
        "```"
      ],
      "metadata": {
        "id": "UkZlPqTdBC-b"
      }
    },
    {
      "cell_type": "code",
      "source": [
        "head = \"Py\"\n",
        "tail = \"thon\"\n",
        "print(head + tail)"
      ],
      "metadata": {
        "id": "VhkXfR_dBHIC",
        "colab": {
          "base_uri": "https://localhost:8080/"
        },
        "outputId": "b4246b2c-5ab3-4448-a2b2-502de1909b0c"
      },
      "execution_count": null,
      "outputs": [
        {
          "output_type": "stream",
          "name": "stdout",
          "text": [
            "Python\n"
          ]
        }
      ]
    },
    {
      "cell_type": "markdown",
      "source": [
        "  - 문자열 곱하기\n",
        "```\n",
        "string = \"python\"\n",
        "print(\"-\" * 10)\n",
        "print(string * 3)\n",
        "print(\"-\" * 10)\n",
        "```"
      ],
      "metadata": {
        "id": "ZSkUyJsKBFk3"
      }
    },
    {
      "cell_type": "code",
      "source": [
        "string = \"python\"\n",
        "print(\"-\" * 10)\n",
        "print(string * 3)\n",
        "print(\"-\" * 10)"
      ],
      "metadata": {
        "id": "TClGfupkBFYq",
        "colab": {
          "base_uri": "https://localhost:8080/"
        },
        "outputId": "b52e91e9-dc5d-4019-b729-c2477909430b"
      },
      "execution_count": null,
      "outputs": [
        {
          "output_type": "stream",
          "name": "stdout",
          "text": [
            "----------\n",
            "pythonpythonpython\n",
            "----------\n"
          ]
        }
      ]
    },
    {
      "cell_type": "markdown",
      "source": [
        "  - 문자열 길이 구하기\n",
        "```\n",
        "string = \"python\"\n",
        "print( len(string))\n",
        "```\n",
        "\n",
        "```\n",
        "# 코드로 형식 지정됨\n",
        "```\n",
        "\n"
      ],
      "metadata": {
        "id": "ogHR_HlJBHkC"
      }
    },
    {
      "cell_type": "code",
      "source": [
        "string = \"python\"\n",
        "print( len(string))"
      ],
      "metadata": {
        "id": "iDzEKB6bBH4-",
        "colab": {
          "base_uri": "https://localhost:8080/"
        },
        "outputId": "d5f59564-cdc5-438b-a42e-d4f6aa8fa462"
      },
      "execution_count": null,
      "outputs": [
        {
          "output_type": "stream",
          "name": "stdout",
          "text": [
            "6\n"
          ]
        }
      ]
    },
    {
      "cell_type": "markdown",
      "source": [
        "### 문자열 인덱싱과 슬라이싱\n",
        "  - 문자열 인덱싱\n",
        "```\n",
        "string = \"python\"\n",
        "```\n",
        "    - 위 코드에서 변수 string에 저장한 문자열의 각 문자마다 번호를 매기면 아래와 같음\n",
        "      0. p\n",
        "      1. y\n",
        "      2. t\n",
        "      3. h\n",
        "      4. o\n",
        "      5. n\n",
        "    - Python에서는 인덱스가 0부터 시작함\n",
        "    - 인덱스가 음수인 경우 뒤에서부터 인덱싱을 수행함\n",
        "```\n",
        "string = \"python\"\n",
        "print(string[0])\n",
        "print(string[3])\n",
        "print(string[-1])\n",
        "print(string[-3])\n",
        "```"
      ],
      "metadata": {
        "id": "xxy9fhZbBWWV"
      }
    },
    {
      "cell_type": "code",
      "source": [],
      "metadata": {
        "id": "qn8Lq2sCB8Rq"
      },
      "execution_count": null,
      "outputs": []
    },
    {
      "cell_type": "markdown",
      "source": [
        "  - 문자열 슬라이싱\n",
        "```\n",
        "string = \"Life is too short, You need Python\"\n",
        "```\n",
        "    - 위 문장에서 Life를 별도의 변수로 받아오는 방법은 아래와 같음\n",
        "```\n",
        "string = \"Life is too short, You need Python\"\n",
        "sub_str = string[0] + string[1] + string[2] + string[3]\n",
        "print(sub_str)\n",
        "```\n",
        "    - 더 편하게 받아오는 방법은 아래와 같음\n",
        "```\n",
        "string = \"Life is too short, You need Python\"\n",
        "sub_str = string[0:4]\n",
        "print(sub_str)\n",
        "```\n",
        "      - string의 인덱스 0부터 4까지의 문자를 출력하는 것을 의미\n",
        "      - 이 때, 0 이상 4 미만임에 유의\n",
        "    - [시작번호:끝번호] 구조에서 끝번호를 생락하면 시작 번호부터 끝까지의 문자열을 출력, 시작 번호를 생략하면 처음부터 끝번호까지의 문자열을 출력함\n",
        "```\n",
        "string = \"Life is too short, You need Python\"\n",
        "print(string[:4])\n",
        "print(string[19:])\n",
        "print(string[-6:])\n",
        "```\n",
        "      - 이 때, [:]를 사용하면 전부 출력\n",
        "```\n",
        "string = \"Life is too short, You need Python\"\n",
        "print(string[:])\n",
        "```"
      ],
      "metadata": {
        "id": "JKG7reOZB8B6"
      }
    },
    {
      "cell_type": "code",
      "source": [],
      "metadata": {
        "id": "BRACGbTWBWva"
      },
      "execution_count": null,
      "outputs": []
    },
    {
      "cell_type": "markdown",
      "source": [
        "### 문자열 포매팅\n",
        "  - 문자열 내에 변수를 넣는 것을 의미\n",
        "  \n",
        "```\n",
        "# 문자열에 숫자 대입\n",
        "var = \"파이썬은 %d년에 개발되었다.\" % 1991\n",
        "print(var)\n",
        "var = \"파이썬은 %d년에 개발되었고, 지금 %.3f 버전까지 나와 있다.\" % (1991, 3.12)\n",
        "print(var)\n",
        "```"
      ],
      "metadata": {
        "id": "DWZtS8qmEFVd"
      }
    },
    {
      "cell_type": "code",
      "source": [],
      "metadata": {
        "id": "kUmhoW0sGkCX"
      },
      "execution_count": null,
      "outputs": []
    },
    {
      "cell_type": "markdown",
      "source": [
        "```\n",
        "# 문자열에 대입하는 여러 방법\n",
        "var_int = 10\n",
        "var_float = 3.14\n",
        "var_string = \"python\"\n",
        "var = f\"{var_int}, {var_float}, {var_string}\"\n",
        "print(var)\n",
        "var = \"{}, {}, {}\".format(var_int, var_float, var_string)\n",
        "print(var)\n",
        "```"
      ],
      "metadata": {
        "id": "Pkx_Y-hlGxJp"
      }
    },
    {
      "cell_type": "code",
      "source": [],
      "metadata": {
        "id": "w8RupITUHOkO"
      },
      "execution_count": null,
      "outputs": []
    },
    {
      "cell_type": "markdown",
      "source": [
        "```\n",
        "# 소문자를 대문자로 바꾸거나 대문자를 소문자로 바꾸는 방법\n",
        "var = \"apple\"\n",
        "var = var.upper()\n",
        "print(var)\n",
        "var = var.lower()\n",
        "print(var)\n",
        "```"
      ],
      "metadata": {
        "id": "05lMiUpSHXG2"
      }
    },
    {
      "cell_type": "code",
      "source": [],
      "metadata": {
        "id": "CLAUu4aXHjHi"
      },
      "execution_count": null,
      "outputs": []
    },
    {
      "cell_type": "markdown",
      "source": [
        "```\n",
        "# 문자열의 특정 문자를 치환하는 방법\n",
        "var = \"apple is sweet.\"\n",
        "var.replace(\"apple\", \"banana\")\n",
        "print(var)\n",
        "```"
      ],
      "metadata": {
        "id": "Y-jwmuDbHlNV"
      }
    },
    {
      "cell_type": "code",
      "source": [],
      "metadata": {
        "id": "VTs8fMF5Hlc0"
      },
      "execution_count": null,
      "outputs": []
    },
    {
      "cell_type": "markdown",
      "source": [
        "```\n",
        "# 문자열을 특정 문자 기준으로 나누는 방법\n",
        "var = \"a b c d\"\n",
        "print(var.split())\n",
        "print(var.split(\" \"))\n",
        "var = \"a,b,c,d\"\n",
        "print(var.split(\",\"))\n",
        "```"
      ],
      "metadata": {
        "id": "ig-kiXwRHyFc"
      }
    },
    {
      "cell_type": "code",
      "source": [],
      "metadata": {
        "id": "TWlRp4CZIIaR"
      },
      "execution_count": null,
      "outputs": []
    },
    {
      "cell_type": "markdown",
      "source": [
        "### 실습\n",
        "- 자동차 번호가 아래와 같을 때, 뒤 4자리만 출력하시오\n",
        "\n",
        "`license_plate=\"157허 3279\"`"
      ],
      "metadata": {
        "id": "nB8gGP8jMfJQ"
      }
    },
    {
      "cell_type": "code",
      "source": [],
      "metadata": {
        "id": "f5ZY3zi3MffV"
      },
      "execution_count": null,
      "outputs": []
    },
    {
      "cell_type": "markdown",
      "source": [
        "- 아래의 문자열에서 `홀`만 출력하시오\n",
        "\n",
        "`string = \"홀짝홀짝흘짝\"`"
      ],
      "metadata": {
        "id": "dOZ4i0k4MrPB"
      }
    },
    {
      "cell_type": "code",
      "source": [],
      "metadata": {
        "id": "FBn0wR3aMrka"
      },
      "execution_count": null,
      "outputs": []
    },
    {
      "cell_type": "markdown",
      "source": [
        "## 2.4 리스트\n",
        "- 다양한 변수를 모아서 하나의 변수로 다루기 위한 자료형\n"
      ],
      "metadata": {
        "id": "pIlENkfQIHz3"
      }
    },
    {
      "cell_type": "markdown",
      "source": [
        "### 리스트 생성하기\n",
        "\n",
        "- 리스트를 사용하면 2, 4, 8, 6, 10의 숫자 모음을 아래와 같이 표현할 수 있음\n",
        "```\n",
        "even = [2, 4, 6, 8, 10]\n",
        "```\n",
        "- 리스트를 만들 때에는 위의 예시와 같이 대괄호 `[]`로 감싸 주고 각 요소 값은 쉼표로 구문함\n",
        "```\n",
        "리스트_변수명 = [요소1, 요소2, 요소3, 요소4, ...]\n",
        "```\n",
        "- 리스트 내부에 리스트가 여러번 중첩될 수 있으며, 생김새는 아래와 같음\n",
        "```\n",
        "aa = []\n",
        "bb = [2, 4]\n",
        "cc = ['This','is','Python']\n",
        "dd = [0, 1, 'Python']\n",
        "ee = [0, [1], [['p', 'y'], 't'], 'h']\n",
        "```\n",
        "- 빈 리스트는 아래와 같이 생성할 수 있음\n",
        "```\n",
        "a = []\n",
        "a = list()\n",
        "```"
      ],
      "metadata": {
        "id": "fLQDNGHkNKkn"
      }
    },
    {
      "cell_type": "code",
      "source": [],
      "metadata": {
        "id": "yn8BUMrwNyhv"
      },
      "execution_count": null,
      "outputs": []
    },
    {
      "cell_type": "markdown",
      "source": [
        "### 리스트의 인덱싱과 슬라이싱\n",
        "- 리스트도 문자열과 같이 인덱싱과 슬라이싱을 할 수 있음\n",
        "- 리스트의 인덱싱\n",
        "```\n",
        "a = [1, 2, 3]\n",
        "print(a[0])\n",
        "print(a[-1])\n",
        "print(a[0] + a[1])\n",
        "```"
      ],
      "metadata": {
        "id": "CyDt21J4Oovq"
      }
    },
    {
      "cell_type": "code",
      "source": [],
      "metadata": {
        "id": "DimJZNsrOn3Y"
      },
      "execution_count": null,
      "outputs": []
    },
    {
      "cell_type": "markdown",
      "source": [
        "- 중첩된 리스트도 인덱스를 통한 접근을 할 수 있음\n",
        "```\n",
        "a = [1, 2, [3, 4], [5, [6, 7]]]\n",
        "print(a[-1])\n",
        "print(a[-1][1])\n",
        "print(a[-1][1][0])\n",
        "print(a[2][0])\n",
        "```"
      ],
      "metadata": {
        "id": "fCINVontO7ws"
      }
    },
    {
      "cell_type": "code",
      "source": [],
      "metadata": {
        "id": "GwB6bNCZO8H6"
      },
      "execution_count": null,
      "outputs": []
    },
    {
      "cell_type": "markdown",
      "source": [
        "- 리스트의 슬라이싱\n",
        "  - 문자열과 마찬가지로 리스트에서도 슬라이싱을 수행할 수 있음\n",
        "```\n",
        "a = [1, 2, 3, 4, 5]\n",
        "print(a[:2])\n",
        "print(a[-2:])\n",
        "```"
      ],
      "metadata": {
        "id": "fY_T2mGtOnsC"
      }
    },
    {
      "cell_type": "code",
      "source": [],
      "metadata": {
        "id": "KEqjBEf1OpMe"
      },
      "execution_count": null,
      "outputs": []
    },
    {
      "cell_type": "markdown",
      "source": [
        "### 리스트 연산하기\n",
        "- 리스트 역시 `+`를 사용해서 더할 수 있고 `*`를 사용해서 반복할 수 있음\n",
        "```\n",
        "# 리스트 더하기\n",
        "a = [2, 4, 6, 8, 10]\n",
        "b = [1, 3, 5, 7, 9]\n",
        "c = a + b\n",
        "print(c)\n",
        "```"
      ],
      "metadata": {
        "id": "q6UcZIvbPcWc"
      }
    },
    {
      "cell_type": "code",
      "source": [],
      "metadata": {
        "id": "azSahhYKPdIC"
      },
      "execution_count": null,
      "outputs": []
    },
    {
      "cell_type": "markdown",
      "source": [
        "```\n",
        "# 리스트 반복하기\n",
        "a = [2, 4]\n",
        "b = a * 2\n",
        "print(a)\n",
        "```"
      ],
      "metadata": {
        "id": "hQOC8o7BPrsJ"
      }
    },
    {
      "cell_type": "code",
      "source": [],
      "metadata": {
        "id": "e8ikk27qPsJF"
      },
      "execution_count": null,
      "outputs": []
    },
    {
      "cell_type": "markdown",
      "source": [
        "### 리스트 길이 구하기\n",
        "- 리스트의 길이를 구하기 위해서 len 함수를 사용함\n",
        "```\n",
        "a = [2, 4, 6]\n",
        "print(len(a))\n",
        "\n",
        "b = [2, 3, [4, 6]]\n",
        "print(len(b))\n",
        "print(len(b[-1]))\n",
        "```"
      ],
      "metadata": {
        "id": "X5YbtaZLPx94"
      }
    },
    {
      "cell_type": "code",
      "source": [],
      "metadata": {
        "id": "lly20vNhPyUW"
      },
      "execution_count": null,
      "outputs": []
    },
    {
      "cell_type": "markdown",
      "source": [
        "### 리스트의 수정과 삭제\n",
        "- 리스트 값 수정하기\n",
        "```\n",
        "a = [1, 3, 5, 10]\n",
        "a[-1] = 9\n",
        "print(a)\n",
        "```"
      ],
      "metadata": {
        "id": "pJTBRyMCQD8L"
      }
    },
    {
      "cell_type": "code",
      "source": [],
      "metadata": {
        "id": "ILZ-DBB4QESy"
      },
      "execution_count": null,
      "outputs": []
    },
    {
      "cell_type": "markdown",
      "source": [
        "- `del` 함수를 사용해서 리스트 내 특정 요소 삭제\n",
        "```\n",
        "a = [1, 2, 4, 6]\n",
        "del a[0]\n",
        "print(a)\n",
        "del a[-2:]\n",
        "print(a)\n",
        "```"
      ],
      "metadata": {
        "id": "lokthGdSQQCd"
      }
    },
    {
      "cell_type": "code",
      "source": [],
      "metadata": {
        "id": "QIlp8qvQQe_-"
      },
      "execution_count": null,
      "outputs": []
    },
    {
      "cell_type": "markdown",
      "source": [
        "### 리스트 관련 함수\n",
        "- 리스트에 요소 추가하기\n",
        "\n",
        "\n",
        "```\n",
        "a_list = [ 1, 3, 5 ]\n",
        "a_list.append(9)\n",
        "print(a_list)\n",
        "\n",
        "a_liat.append([1,2])\n",
        "print(a_list)\n",
        "```\n",
        "\n"
      ],
      "metadata": {
        "id": "I_flfXTxg2nJ"
      }
    },
    {
      "cell_type": "code",
      "source": [],
      "metadata": {
        "id": "04aZ8x_sg26A"
      },
      "execution_count": null,
      "outputs": []
    },
    {
      "cell_type": "markdown",
      "source": [
        "- 리스트 정렬\n",
        "  - 기본적으로 오름차순으로 정렬\n",
        "  - 내림차순으로 정렬하는 경우 reverse=True 입력\n",
        "\n",
        "```\n",
        "a_list = [ 1, 5, 10, 20, 30 ]\n",
        "a_list.sort()\n",
        "print(a_list)\n",
        "\n",
        "\n",
        "a_list = [ 1, 5, 10, 20, 30 ]\n",
        "print(a_list.sort())\n",
        "\n",
        "\n",
        "a_list = [ 1, 5, 10, 20, 30 ]\n",
        "a_list.sort(reverse=True)\n",
        "print(a_list)\n",
        "```\n",
        "\n"
      ],
      "metadata": {
        "id": "lmRxk1eNi0WB"
      }
    },
    {
      "cell_type": "code",
      "source": [],
      "metadata": {
        "id": "_NGyJ8TCj4FJ"
      },
      "execution_count": null,
      "outputs": []
    },
    {
      "cell_type": "markdown",
      "source": [
        "- 리스트 뒤집기\n",
        "  - 정렬을 수행하지 않고 요소를 그대로 거꾸로 뒤집는 연산\n",
        "\n",
        "\n",
        "```\n",
        "a_list = [ 1, 5, 10, 20, 30 ]\n",
        "a_list.reverse()\n",
        "print(a_list)\n",
        "\n",
        "\n",
        "a_list = [ 1, 5, 10, 20, 30 ]\n",
        "print(a_list.reverse())\n",
        "```\n",
        "\n"
      ],
      "metadata": {
        "id": "1rjIXI8LjrVk"
      }
    },
    {
      "cell_type": "code",
      "source": [],
      "metadata": {
        "id": "5rJPIAEgjr2a"
      },
      "execution_count": null,
      "outputs": []
    },
    {
      "cell_type": "markdown",
      "source": [
        "- 리스트 내 특정 값의 인덱스 반환\n",
        "  - index(x)는 리스트에 x값이 있으면 x의 인덱스를 반환함\n",
        "\n",
        "\n",
        "```\n",
        "a_list = [ 1, 5, 10, 20, 30 ]\n",
        "print(a_list.index(10))\n",
        "\n",
        "\n",
        "a_list = [ 1, 5, 10, 20, 30 ]\n",
        "print(a_list.index(3))\n",
        "```\n",
        "\n"
      ],
      "metadata": {
        "id": "9FnLYIYCkH7P"
      }
    },
    {
      "cell_type": "code",
      "source": [],
      "metadata": {
        "id": "q6pG75xfkILN"
      },
      "execution_count": null,
      "outputs": []
    },
    {
      "cell_type": "markdown",
      "source": [
        "- 리스트 내 특정 값의 개수 확인\n",
        "  - count(x)는 리스트 내 x의 개수를 확인\n",
        "\n",
        "```\n",
        "a_list = [ 1, 5, 10, 20, 30 ]\n",
        "print(a_list.count(10))\n",
        "\n",
        "\n",
        "a_list = [ 1, 5, 10, 20, 30 ]\n",
        "print(a_list.count(3))\n",
        "```\n",
        "\n"
      ],
      "metadata": {
        "id": "2HBDgKN3kywe"
      }
    },
    {
      "cell_type": "code",
      "source": [],
      "metadata": {
        "id": "WtuF_ZF8kzAc"
      },
      "execution_count": null,
      "outputs": []
    },
    {
      "cell_type": "code",
      "source": [],
      "metadata": {
        "id": "b6GLz-9za-jG"
      },
      "execution_count": null,
      "outputs": []
    },
    {
      "cell_type": "markdown",
      "source": [
        "### 실습\n",
        "- movie_rank 리스트가 아래와 같이 있을 때, '럭키'를 삭제하시오\n",
        "\n",
        "`movie_rank = ['닥터 스트레인지', '슈퍼맨', '스플릿', '럭키', '배트맨']`"
      ],
      "metadata": {
        "id": "0HpmkdvKNHIo"
      }
    },
    {
      "cell_type": "code",
      "source": [
        "movie_rank = ['닥터 스트레인지', '슈퍼맨', '스플릿', '럭키', '배트맨']\n",
        "\n",
        "del movie_rank[movie_rank.index('럭키')]\n",
        "\n",
        "print(movie_rank)"
      ],
      "metadata": {
        "id": "iv1965_MNHim",
        "colab": {
          "base_uri": "https://localhost:8080/"
        },
        "outputId": "3bf0e9bf-48f5-4bd3-ffb9-fc1f5d166d6f"
      },
      "execution_count": 2,
      "outputs": [
        {
          "output_type": "stream",
          "name": "stdout",
          "text": [
            "['닥터 스트레인지', '슈퍼맨', '스플릿', '배트맨']\n"
          ]
        }
      ]
    },
    {
      "cell_type": "markdown",
      "source": [
        "- lang1과 lang2 리스트가 아래와 같이 있을 때, 두 리스트의 원소를 모두 갖고 있는 langs 리스트를 생성하시오\n",
        "\n",
        "`lang1 = [\"C\", \"C++\", \"JAVA\"]`\n",
        "\n",
        "`lang2 = [\"Python\", \"Go\", \"C#\"]`"
      ],
      "metadata": {
        "id": "B6QKsDpeNToS"
      }
    },
    {
      "cell_type": "code",
      "source": [
        "lang1 = [\"C\", \"C++\", \"JAVA\"]\n",
        "\n",
        "lang2 = [\"Python\", \"Go\", \"C#\"]\n",
        "\n",
        "lang1.extend(lang2)\n",
        "\n",
        "print(lang1)"
      ],
      "metadata": {
        "id": "4Sk_rXJSNTfW",
        "colab": {
          "base_uri": "https://localhost:8080/"
        },
        "outputId": "5a767e6d-6b77-42a3-cf33-d2dcabb8ad0c"
      },
      "execution_count": 3,
      "outputs": [
        {
          "output_type": "stream",
          "name": "stdout",
          "text": [
            "['C', 'C++', 'JAVA', 'Python', 'Go', 'C#']\n"
          ]
        }
      ]
    },
    {
      "cell_type": "markdown",
      "source": [
        "## 2.5 튜플\n",
        "- 대부분 리스트와 유사하지만, 크게 두 가지가 다름\n",
        "- 선언 방식\n",
        "  - 리스트: `[]`\n",
        "  - 튜플: `()`\n",
        "- 리스트는 선언 후 내부 값을 바꿀 수 있으나, 튜플은 선언 후 내부 값을 바꿀 수 없음.\n"
      ],
      "metadata": {
        "id": "yMcYtgnuIeQb"
      }
    },
    {
      "cell_type": "markdown",
      "source": [
        "### 튜플 생성하기\n",
        "```\n",
        "t1 = ()\n",
        "t2 = (1,)\n",
        "t3 = (1, 2, 3)\n",
        "t4 = 1, 2, 3\n",
        "t5 = ('a', 'b', ('c', ('d', 'e')))\n",
        "```\n",
        "- 리스트와 크게 다르지 않으나, 하나의 요소를 가질 때는 요소 뒤에 쉼표를 반드시 붙여야 함\n",
        "- 소괄호를 생략해도 튜플 선언 가능\n",
        "- 프로그램 실행 중 내부 값이 바뀌길 원한다면 리스트로 선언\n",
        "- 프로그램 실행 중 내부 값이 바뀌지 않기를 원한다면 튜플로 선언\n"
      ],
      "metadata": {
        "id": "oRkZhRrRlb7l"
      }
    },
    {
      "cell_type": "code",
      "source": [],
      "metadata": {
        "id": "FZX1ukvAlcVX"
      },
      "execution_count": null,
      "outputs": []
    },
    {
      "cell_type": "markdown",
      "source": [
        "### 튜플 연산하기\n",
        "- 기본적으로는 리스트와 동일함\n",
        "```\n",
        "# 튜플 인덱싱\n",
        "a = (1, 2, 3, 10, (11, 55))\n",
        "print(a[-1])\n",
        "\n",
        "# 튜플 슬라이싱\n",
        "print(a[:2])\n",
        "\n",
        "# 튜플 더하기\n",
        "b = (50, (20, 1), 4)\n",
        "print(a+b)\n",
        "\n",
        "# 튜플 곱하기\n",
        "print(a * 2)\n",
        "\n",
        "# 튜플 길이 구하기\n",
        "print(a)\n",
        "print(len(a))\n",
        "```"
      ],
      "metadata": {
        "id": "jsxKFqWGl7N7"
      }
    },
    {
      "cell_type": "code",
      "source": [],
      "metadata": {
        "id": "aXkU7zxMl7g7"
      },
      "execution_count": null,
      "outputs": []
    },
    {
      "cell_type": "markdown",
      "source": [
        "### 실습\n",
        "- 아래 튜플을 리스트로 변환하시오\n",
        "\n",
        "`interest = ('삼성전자', 'LG전자', 'SK Hynix')`"
      ],
      "metadata": {
        "id": "WbCZ8hlINsmd"
      }
    },
    {
      "cell_type": "code",
      "source": [
        "interest = ('삼성전자', 'LG전자', 'SK Hynix')\n",
        "interest = list(('삼성전자', 'LG전자', 'SK Hynix'))\n",
        "print(interest )"
      ],
      "metadata": {
        "id": "XVYfISB5Ns9L",
        "colab": {
          "base_uri": "https://localhost:8080/"
        },
        "outputId": "ab8fa3c4-0d9c-4eb7-ef09-2befb026a229"
      },
      "execution_count": 5,
      "outputs": [
        {
          "output_type": "stream",
          "name": "stdout",
          "text": [
            "['삼성전자', 'LG전자', 'SK Hynix']\n"
          ]
        }
      ]
    },
    {
      "cell_type": "markdown",
      "source": [
        "## 2.5 딕셔너리\n",
        "- \"국가\": \"대한민국\", \"도시\":\"서울\"과 같이 대응 관계를 나타낼 수 있는 자료형\n",
        "- 해시 맵으로 사용할 수 있음\n",
        "- Key와 Value 쌍으로 데이터를 저장하며, 한 딕셔너리에 같은 키를 가진 키:값 쌍은 존재할 수 없음"
      ],
      "metadata": {
        "id": "Jr6yDQHcJnaD"
      }
    },
    {
      "cell_type": "markdown",
      "source": [
        "### 딕셔너리 생성하기\n",
        "```\n",
        "a = {\n",
        "    \"key1\": \"value1\"\n",
        "    , \"key2\": \"value1\"\n",
        "    , \"key3\": \"value2\"\n",
        "    , \"key4\": \"value3\"\n",
        "}\n",
        "```\n",
        "- 같은 값을 가진 키는 존재할 수 있음\n",
        "- 같은 키를 가진 두 개의 쌍은 있을 수 없음\n",
        "\n",
        "```\n",
        "a = {\n",
        "    \"name\": \"jy\"\n",
        "    , \"phone\": \"01099992222\"\n",
        "    , \"email\": \"1q2w@qwe.com\"\n",
        "    , \"phone\": \"+821099992283\"\n",
        "}\n",
        "print(a[\"key1\"])\n",
        "```"
      ],
      "metadata": {
        "id": "8bUb6RAJnH_5"
      }
    },
    {
      "cell_type": "code",
      "source": [],
      "metadata": {
        "id": "BiljNq_HoM6r"
      },
      "execution_count": null,
      "outputs": []
    },
    {
      "cell_type": "markdown",
      "source": [
        "### 딕셔너리에 쌍 추가하기\n",
        "```\n",
        "a = {\n",
        "    0: 'a',\n",
        "    'b': 3\n",
        "}\n",
        "a[2] = 'c'\n",
        "print(a)\n",
        "```\n",
        "\n",
        "```\n",
        "a = {\n",
        "    \"name\": \"jy\"\n",
        "    , \"phone\": \"01099992222\"\n",
        "    , \"email\": \"1q2w@qwe.com\"\n",
        "}\n",
        "a['code'] = [0, 1, [12,3]]\n",
        "print(a)\n",
        "```"
      ],
      "metadata": {
        "id": "8BNBiV5toNPT"
      }
    },
    {
      "cell_type": "code",
      "source": [],
      "metadata": {
        "id": "w_Z4_CFoote7"
      },
      "execution_count": null,
      "outputs": []
    },
    {
      "cell_type": "markdown",
      "source": [
        "### 딕셔너리에서 쌍 제거하기\n",
        "```\n",
        "a = {\n",
        "    0: 'a',\n",
        "    'b': 3\n",
        "}\n",
        "del a[0]\n",
        "print(a)\n",
        "```\n",
        "\n",
        "```\n",
        "a = {\n",
        "    \"name\": \"jy\"\n",
        "    , \"phone\": \"01099992222\"\n",
        "    , \"email\": \"1q2w@qwe.com\"\n",
        "}\n",
        "del a['code']\n",
        "print(a)\n",
        "```"
      ],
      "metadata": {
        "id": "mIQ19RfYott7"
      }
    },
    {
      "cell_type": "code",
      "source": [],
      "metadata": {
        "id": "_GxUk45ko7Ux"
      },
      "execution_count": null,
      "outputs": []
    },
    {
      "cell_type": "markdown",
      "source": [
        "### 딕셔너리에서 관련 함수\n"
      ],
      "metadata": {
        "id": "Vou6IT81pZW4"
      }
    },
    {
      "cell_type": "markdown",
      "source": [
        "- 키 리스트 만들기\n",
        "```\n",
        "a = {\n",
        "    0: 'a',\n",
        "    'b': 3\n",
        "}\n",
        "print(a.keys())\n",
        "```\n",
        "\n",
        "- 값 리스트 만들기\n",
        "```\n",
        "a = {\n",
        "    \"name\": \"jy\"\n",
        "    , \"phone\": \"01099992222\"\n",
        "    , \"email\": \"1q2w@qwe.com\"\n",
        "}\n",
        "print(a.values())\n",
        "```\n",
        "\n",
        "- 키, 값 쌍 만들기\n",
        "```\n",
        "a = {\n",
        "    \"name\": \"jy\"\n",
        "    , \"phone\": \"01099992222\"\n",
        "    , \"email\": \"1q2w@qwe.com\"\n",
        "}\n",
        "print(a.items())\n",
        "```\n",
        "\n",
        "- 키가 딕셔너리에 있는지 확인하기\n",
        "```\n",
        "a = {\n",
        "    \"name\": \"jy\"\n",
        "    , \"phone\": \"01099992222\"\n",
        "    , \"email\": \"1q2w@qwe.com\"\n",
        "}\n",
        "print('name' in a)\n",
        "print('home' in a)\n",
        "```"
      ],
      "metadata": {
        "id": "NCCy2dzMpfgb"
      }
    },
    {
      "cell_type": "code",
      "source": [],
      "metadata": {
        "id": "Iq2flAkcpZpy"
      },
      "execution_count": null,
      "outputs": []
    },
    {
      "cell_type": "markdown",
      "source": [
        "### 실습\n",
        "- 아래의 차량 이름과 희망 가격을 딕셔너리로 구성하시오\n",
        "\n",
        "\n",
        "|이름|희망가격|\n",
        "|-|-|\n",
        "|아반떼|2000|\n",
        "|소나타|3000|\n",
        "|그렌저|4000|\n"
      ],
      "metadata": {
        "id": "mGHBVqB7OMQK"
      }
    },
    {
      "cell_type": "code",
      "source": [
        "cars = dict()\n",
        "\n",
        "cars[\"아반떼\"] = 2000\n",
        "cars[\"소나타\"] = 3000\n",
        "cars[\"그렌저\"] = 4000\n",
        "\n",
        "print(cars)"
      ],
      "metadata": {
        "id": "pBTRMRUFOMmM",
        "colab": {
          "base_uri": "https://localhost:8080/"
        },
        "outputId": "132fd810-ed89-412c-de8f-5c3863f3d26f"
      },
      "execution_count": 6,
      "outputs": [
        {
          "output_type": "stream",
          "name": "stdout",
          "text": [
            "{'아반떼': 2000, '소나타': 3000, '그렌저': 4000}\n"
          ]
        }
      ]
    },
    {
      "cell_type": "markdown",
      "source": [
        "- 아래의 표에서 아이스크림 이름을 키값으로, [가격, 재고] 리스트를 딕셔너리의 값으로 저장하시오\n",
        "- 딕셔너리의 이름은 inventory로 하시오\n",
        "\n",
        "|이름|가격|재고|\n",
        "|-|-|-|\n",
        "|메로나|500|10|\n",
        "|비비빅|700|5|\n",
        "|벤엔제리스|14700|10|"
      ],
      "metadata": {
        "id": "EH1rGrH3O3Uc"
      }
    },
    {
      "cell_type": "code",
      "source": [
        "inventory = {\n",
        "    \"메로나\" : [500, 10],\n",
        "    \"비비빅\" : [700, 5],\n",
        "    \"벤엔제리스\" : [14700, 10]\n",
        "}"
      ],
      "metadata": {
        "id": "qrA5T7_JO3lC"
      },
      "execution_count": 11,
      "outputs": []
    },
    {
      "cell_type": "markdown",
      "source": [
        "- 위에서 생성한 inventory 딕셔너리에서 비비빅의 재고를 출력하시오"
      ],
      "metadata": {
        "id": "4yFPFe6CPwfM"
      }
    },
    {
      "cell_type": "code",
      "source": [
        "print( inventory[\"비비빅\"][1])"
      ],
      "metadata": {
        "id": "eRuf-1vsPwzW",
        "colab": {
          "base_uri": "https://localhost:8080/"
        },
        "outputId": "bd933a8b-3a2a-4699-cd81-f1864253fc1b"
      },
      "execution_count": 12,
      "outputs": [
        {
          "output_type": "stream",
          "name": "stdout",
          "text": [
            "5\n"
          ]
        }
      ]
    },
    {
      "cell_type": "markdown",
      "source": [
        "- 위에서 생성한 inventory 딕셔너리에 아래 데이터를 추가하시오\n",
        "\n",
        "|이름|가격|재고|\n",
        "|-|-|-|\n",
        "|월드콘|1500|10|"
      ],
      "metadata": {
        "id": "bWuz-YdnP_vD"
      }
    },
    {
      "cell_type": "code",
      "source": [
        "inventory[\"월드콘\"] = [1500,10]\n",
        "\n",
        "print(inventory)"
      ],
      "metadata": {
        "id": "E3WD-WQmP_95",
        "colab": {
          "base_uri": "https://localhost:8080/"
        },
        "outputId": "7bcb643d-f9a9-48a0-a37e-0ac209f0972b"
      },
      "execution_count": 16,
      "outputs": [
        {
          "output_type": "stream",
          "name": "stdout",
          "text": [
            "{'메로나': [500, 10], '비비빅': [700, 5], '벤엔제리스': [14700, 10], '월드콘': [1500, 10]}\n"
          ]
        }
      ]
    },
    {
      "cell_type": "markdown",
      "source": [
        "## 2.6 집합\n",
        "- 집합 자료형은 set 키워드를 사용해 만들 수 있음\n",
        "- 내부 값에 인덱스로 접근할 수 없음\n",
        "  - 순서가 없음\n",
        "\n",
        "\n",
        "\n",
        "```\n",
        "s1 = set([1, 2, 3])\n",
        "print(s1)\n",
        "```\n",
        "\n",
        "- 통상 리스트 내 독립된 값을 얻을 때 사용함\n",
        "\n",
        "```\n",
        "l1 = [0, 0, 1, 2, 3, 5]\n",
        "s1 = set(l1)\n",
        "l2 = list(s1)\n",
        "print(l1)\n",
        "print(s1)\n",
        "print(l2)\n",
        "```\n"
      ],
      "metadata": {
        "id": "2DfTDsxhJrfH"
      }
    },
    {
      "cell_type": "code",
      "source": [],
      "metadata": {
        "id": "OM-rbZMdqjfD"
      },
      "execution_count": null,
      "outputs": []
    },
    {
      "cell_type": "markdown",
      "source": [
        "### 교집합, 합집합, 차집합 구하기\n",
        "\n",
        "- 교집합 구하기\n",
        "\n",
        "```\n",
        "s1 = set([2, 4, 6, 8, 10])\n",
        "s2 = set([4, 8])\n",
        "\n",
        "print(s1 & s2)\n",
        "print(s2.intersection(s1))\n",
        "```\n",
        "\n",
        "- 합집합 구하기\n",
        "\n",
        "```\n",
        "s1 = set([1, 3, 5, 7, 9])\n",
        "s2 = set([2, 4, 6, 8, 10])\n",
        "\n",
        "print(s1 | s2)\n",
        "print(s2.union(s1))\n",
        "```\n",
        "\n",
        "- 차집합 구하기\n",
        "\n",
        "```\n",
        "s1 = set([2, 4, 6, 8, 10])\n",
        "s2 = set([4, 8, 12, 16, 20])\n",
        "\n",
        "print(s1 - s2)\n",
        "print(s1.difference(s2))\n",
        "print(s2 - s1)\n",
        "print(s2.difference(s1))\n",
        "```\n",
        "\n"
      ],
      "metadata": {
        "id": "SSeJ2oy3qj46"
      }
    },
    {
      "cell_type": "code",
      "source": [],
      "metadata": {
        "id": "JJp2KydDrVGG"
      },
      "execution_count": null,
      "outputs": []
    },
    {
      "cell_type": "markdown",
      "source": [
        "## 2.7 불리언\n",
        "- 참(True) 또는 거짓(False) 값을 저장하는 데이터 타입\n",
        "- 언어에 따라 true / false, True / False 등으로 표현하지만 Python에서는 True / False로 표현"
      ],
      "metadata": {
        "id": "BWZBaq_xJwUa"
      }
    },
    {
      "cell_type": "markdown",
      "source": [
        "### 자료형의 참과 거짓\n",
        "\n",
        "- Python에서 자료형마다 참과 거짓을 구분할 수 있음\n",
        "- 기본적으로 내부 값이 없거나 0일 때 거짓이라고 함\n",
        "\n",
        "\n",
        "\n",
        "```\n",
        "s1 = \"python\"\n",
        "s2 = \"\"\n",
        "print(bool(s1))\n",
        "print(bool(s2))\n",
        "\n",
        "l1 = [1, 2, 3]\n",
        "l2 = []\n",
        "print(bool(l1))\n",
        "print(bool(l2))\n",
        "\n",
        "t1 = (1, 2, 3)\n",
        "t2 = ()\n",
        "print(bool(t1))\n",
        "print(bool(t2))\n",
        "\n",
        "d1 = {'a': 0}\n",
        "d2 = {}\n",
        "print(bool(d1))\n",
        "print(bool(d2))\n",
        "\n",
        "i1 = 1\n",
        "i2 = 0\n",
        "print(bool(i1))\n",
        "print(bool(i2))\n",
        "\n",
        "print(None)\n",
        "```\n",
        "\n"
      ],
      "metadata": {
        "id": "eRETw4aRr9_1"
      }
    },
    {
      "cell_type": "code",
      "source": [],
      "metadata": {
        "id": "nwG2g25Jr7nK"
      },
      "execution_count": null,
      "outputs": []
    },
    {
      "cell_type": "markdown",
      "source": [
        "## 변수의 데이터 타입 확인\n",
        "- 변수 var가 있을 때,\n",
        "        - type(var) 함수를 사용하여 변수의 데이터 타입을 확인 가능\n",
        "        - isinstance(var, 변수형) 함수를 사용하여 변수가 특정 데이터 타입인지 확인 가능\n",
        "\n",
        "```\n",
        "int_var = 3\n",
        "float_var = 3.14\n",
        "string_var = \"원주율\"\n",
        "boolean_var = True\n",
        "print(\"int_var의 데이터 타입: \", type(int_var))\n",
        "print(\"float_var가 실수형인지 확인: \", isinstance(float_var, float))\n",
        "print(\"string_var의 데이터 타입: \", type(string_var))\n",
        "print(\"boolean_var의 데이터 타입: \", type(boolean_var))\n",
        "```\n",
        "\n",
        "\n",
        "- 정수 `30`과 문자열 `'30'`은 서로 다른 변수임에 유의\n",
        "\n",
        "```\n",
        "int_var = 30\n",
        "string_var = '30'\n",
        "bool_condition = int_var == string_var\n",
        "print(bool_condition)\n",
        "```\n",
        "\n"
      ],
      "metadata": {
        "id": "lWUdVTjjld_X"
      }
    },
    {
      "cell_type": "code",
      "source": [],
      "metadata": {
        "id": "gOf1A5dOlf97"
      },
      "execution_count": null,
      "outputs": []
    },
    {
      "cell_type": "markdown",
      "source": [
        "# 실습: 다양한 데이터 타입의 변수 선언 및 출력\n"
      ],
      "metadata": {
        "id": "4DNEfulMlGhn"
      }
    },
    {
      "cell_type": "markdown",
      "source": [
        "## 1. 정수, 실수 문자열 변수 선언하기\n",
        "임의의 변수명으로 각각의 데이터 타입을 가진 변수를 선언하고 출력"
      ],
      "metadata": {
        "id": "9xRTZfAKoOwH"
      }
    },
    {
      "cell_type": "code",
      "source": [],
      "metadata": {
        "id": "QrQGWsz_lXpG"
      },
      "execution_count": null,
      "outputs": []
    },
    {
      "cell_type": "markdown",
      "source": [
        "## 2. 변수 값 변경하기\n",
        "선언한 변수의 값을 변경하고, 변경된 값을 출력"
      ],
      "metadata": {
        "id": "5mTPUEOAlX4u"
      }
    },
    {
      "cell_type": "code",
      "source": [],
      "metadata": {
        "id": "LnJuG2BymW9X"
      },
      "execution_count": null,
      "outputs": []
    },
    {
      "cell_type": "markdown",
      "source": [
        "## 3. 변수의 데이터 타입 확인하기\n",
        "type() 함수 또는 isinstance() 함수를 사용하여 변수의 데이터 타입을 확인"
      ],
      "metadata": {
        "id": "6m_7i42KmV0o"
      }
    },
    {
      "cell_type": "code",
      "source": [],
      "metadata": {
        "id": "74ahBk32mWM-"
      },
      "execution_count": null,
      "outputs": []
    },
    {
      "cell_type": "markdown",
      "source": [
        "## 4. 두 수의 합 구하기\n",
        "- 두 개의 정수 변수를 선언하고, 두 수의 합을 출력하는 프로그램을 작성하시오."
      ],
      "metadata": {
        "id": "a_oZIk_Pmh06"
      }
    },
    {
      "cell_type": "code",
      "source": [],
      "metadata": {
        "id": "-8R7I5zHmoRX"
      },
      "execution_count": null,
      "outputs": []
    },
    {
      "cell_type": "markdown",
      "source": [
        "## 5. 문자열 결합\n",
        "- 두 개의 문자열 변수를 선언하고, 두 문자열을 결합하여 출력하는 프로그램을 작성하시오."
      ],
      "metadata": {
        "id": "1zCcg3Plmojb"
      }
    },
    {
      "cell_type": "code",
      "source": [],
      "metadata": {
        "id": "0RS6GS9PmvYw"
      },
      "execution_count": null,
      "outputs": []
    },
    {
      "cell_type": "markdown",
      "source": [
        "## 6. 불리언 조건 확인\n",
        "- 두 개의 불리언 변수를 선언하고, 두 변수가 모두 참인지 확인하여 결과를 출력하는 프로그램을 작성하세요."
      ],
      "metadata": {
        "id": "9igT2-rTmvmC"
      }
    },
    {
      "cell_type": "code",
      "source": [],
      "metadata": {
        "id": "P4HMQkz0m2JA"
      },
      "execution_count": null,
      "outputs": []
    }
  ]
}
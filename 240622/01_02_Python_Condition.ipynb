{
  "nbformat": 4,
  "nbformat_minor": 0,
  "metadata": {
    "colab": {
      "provenance": [],
      "include_colab_link": true
    },
    "kernelspec": {
      "name": "python3",
      "display_name": "Python 3"
    },
    "language_info": {
      "name": "python"
    }
  },
  "cells": [
    {
      "cell_type": "markdown",
      "metadata": {
        "id": "view-in-github",
        "colab_type": "text"
      },
      "source": [
        "<a href=\"https://colab.research.google.com/github/PocachipMind/2020-2_UnixSystemProgramming/blob/main/240622/01_02_Python_Condition.ipynb\" target=\"_parent\"><img src=\"https://colab.research.google.com/assets/colab-badge.svg\" alt=\"Open In Colab\"/></a>"
      ]
    },
    {
      "cell_type": "markdown",
      "source": [
        "# 2. 조건문\n",
        "- 조건문은 주어진 구조에 따라 다른 동작을 수행하도록 제어하는 문장을 의미함\n",
        "- 프로그램의 흐름을 제어하는 중요한 요소 중 하나\n",
        "\n",
        "\n"
      ],
      "metadata": {
        "id": "nb8aS7kKbrM2"
      }
    },
    {
      "cell_type": "markdown",
      "source": [
        "## 2.1 Python의 조건문 구조\n",
        "- Python에서는 `if`, `elif`, `else`를 사용하여 조건문을 작성함"
      ],
      "metadata": {
        "id": "ha9GYYBruoaz"
      }
    },
    {
      "cell_type": "markdown",
      "source": [
        "## 2.2 if\n",
        "- 가장 기본적인 조건문으로, 조건이 참이면 블록의 코드를 실행\n",
        "```\n",
        "# if문 예제\n",
        "grade = 4.0\n",
        "if grade == 4.5:\n",
        "    print(\"학점: A+\")\n",
        "if grade == 4.0:\n",
        "    print(\"학점: A\")\n",
        "```"
      ],
      "metadata": {
        "id": "pyNptMSdkpVd"
      }
    },
    {
      "cell_type": "code",
      "source": [],
      "metadata": {
        "id": "ahn10RvDko9b"
      },
      "execution_count": null,
      "outputs": []
    },
    {
      "cell_type": "markdown",
      "source": [
        "## 2.2 elif\n",
        "- 첫 if문의 조건이 거짓일 때, 다른 조건을 확인하기 위해 사용.\n",
        "- elif 단독으로 사용할 수 없고 if 이후에 사용할 수 있음.\n",
        "- 여러개의 if문을 사용할 수 있음\n",
        "```\n",
        "# elif문 예제\n",
        "grade = 3.5\n",
        "if grade == 4.5:\n",
        "    print(\"학점: A+\")\n",
        "elif grade == 4.0:\n",
        "    print(\"학점: A\")\n",
        "elif grade == 3.5:\n",
        "    print(\"학점: B+\")\n",
        "```"
      ],
      "metadata": {
        "id": "0kftyEvakuhR"
      }
    },
    {
      "cell_type": "code",
      "source": [],
      "metadata": {
        "id": "b0x5Egilku2H"
      },
      "execution_count": null,
      "outputs": []
    },
    {
      "cell_type": "markdown",
      "source": [
        "## 2.3 else\n",
        "- if와 elif 이후에 사용함\n",
        "- if와 elif의 모든 조건이 거짓일 때 실행\n",
        "```\n",
        "# elif문 예제\n",
        "grade = 1.5\n",
        "if grade == 4.5:\n",
        "    print(\"학점: A+\")\n",
        "elif grade == 4.0:\n",
        "    print(\"학점: A\")\n",
        "elif grade == 3.5:\n",
        "    print(\"학점: B+\")\n",
        "elif grade == 3.0:\n",
        "    print(\"학점: B\")\n",
        "elif grade == 2.5:\n",
        "    print(\"학점: C+\")\n",
        "elif grade == 2.0:\n",
        "    print(\"학점: C\")\n",
        "else:\n",
        "    print(\"학사경고\")\n",
        "```"
      ],
      "metadata": {
        "id": "lWUdVTjjld_X"
      }
    },
    {
      "cell_type": "code",
      "source": [],
      "metadata": {
        "id": "gOf1A5dOlf97"
      },
      "execution_count": null,
      "outputs": []
    },
    {
      "cell_type": "markdown",
      "source": [
        "## 비교 연산자\n",
        "\n",
        "- `x < y`: x가 y보다 작은지 비교, 맞으면 True, 틀리면 False를 반환\n",
        "- `x > y`: x가 y보다 큰지 비교\n",
        "- `x == y` : x와 y가 같은지 확인\n",
        "- `x != y` : x와 y가 다른지 확인\n",
        "- `x >= y` : x가 y보가 크거나 같은지 확인\n",
        "- `x <= y` : x가 y보가 작거나 같은지 확인\n",
        "\n",
        "```\n",
        "a = 10\n",
        "b = 10.1\n",
        "if a > b:\n",
        "    print(\"a가 b보다 크다\")\n",
        "else:\n",
        "    print(\"a가 b보다 작다\")\n",
        "```\n",
        "\n"
      ],
      "metadata": {
        "id": "W5Xth8QNuwjd"
      }
    },
    {
      "cell_type": "code",
      "source": [],
      "metadata": {
        "id": "HYm8s5IVvqk1"
      },
      "execution_count": null,
      "outputs": []
    },
    {
      "cell_type": "markdown",
      "source": [
        "## and, or, not\n",
        "\n",
        "- `x and y`: x와 y가 모두 True인지 확인\n",
        "- `x or y`: x나 y 둘 중 하나가 True인지 확인\n",
        "- `not x` : x가 False일 때 True 반환\n",
        "\n",
        "```\n",
        "a = 10\n",
        "b = 10.1\n",
        "c = 9.0\n",
        "if b < a < c:\n",
        "    print(\"b < a < c\")\n",
        "elif b < a and b < c:\n",
        "    print(\"b는 a 보다 작고 c보다 작다\")\n",
        "else:\n",
        "    print(\"위 조건은 다 거짓이다\")\n",
        "```\n",
        "\n"
      ],
      "metadata": {
        "id": "5Go4uY2hvq2w"
      }
    },
    {
      "cell_type": "code",
      "source": [],
      "metadata": {
        "id": "uJAlOfbCvrQf"
      },
      "execution_count": null,
      "outputs": []
    },
    {
      "cell_type": "markdown",
      "source": [
        "## in, not in\n",
        "\n",
        "- `x in y`: y가 리스트, 튜플, 문자열인 경우, x가 y 안에 있으면 True를 반환\n",
        "\n",
        "```\n",
        "a = 10\n",
        "b = 10.1\n",
        "c = 9.0\n",
        "l1 = [8, 9.0, 10.2]\n",
        "print(a in l1)\n",
        "print(c in l1)\n",
        "```\n",
        "\n"
      ],
      "metadata": {
        "id": "TUjlYcacwuuf"
      }
    },
    {
      "cell_type": "code",
      "source": [],
      "metadata": {
        "id": "4v78Vt44wu9Z"
      },
      "execution_count": null,
      "outputs": []
    },
    {
      "cell_type": "markdown",
      "source": [
        "### 실습: 조건문을 활용한 간단한 프로그램 작성\n",
        "#### 1. 기본 조건\n",
        "- 사용자가 입력한 나이에 따라 다른 메시지를 출력하는 프로그램을 작성\n",
        "- 사용자의 입력을 변수에 저장하는 함수: `input`\n",
        "\n",
        "```\n",
        "age = int(input(\"Enter your age: \"))\n",
        "\n",
        "if age < 18:\n",
        "    print(\"You are a minor.\")\n",
        "elif age < 65:\n",
        "    print(\"You are an adult.\")\n",
        "else:\n",
        "    print(\"You are a senior citizen.\")\n",
        "```\n",
        "\n",
        "\n"
      ],
      "metadata": {
        "id": "4DNEfulMlGhn"
      }
    },
    {
      "cell_type": "code",
      "source": [
        "age = int(input(\"Enter your age: \"))\n",
        "\n",
        "if age < 18:\n",
        "    print(\"You are a minor.\")\n",
        "elif age < 65:\n",
        "    print(\"You are an adult.\")\n",
        "else:\n",
        "    print(\"You are a senior citizen.\")"
      ],
      "metadata": {
        "id": "QrQGWsz_lXpG",
        "colab": {
          "base_uri": "https://localhost:8080/"
        },
        "outputId": "d6b58b39-9cb0-47f0-bea0-8e4926ca662b"
      },
      "execution_count": 1,
      "outputs": [
        {
          "output_type": "stream",
          "name": "stdout",
          "text": [
            "Enter your age: 29\n",
            "You are an adult.\n"
          ]
        }
      ]
    },
    {
      "cell_type": "markdown",
      "source": [
        "#### 2. 복합 조건문\n",
        "사용자가 입력한 숫자가 양수인지, 음수인지 또는 0인지 판단하는 프로그램 작성"
      ],
      "metadata": {
        "id": "5mTPUEOAlX4u"
      }
    },
    {
      "cell_type": "code",
      "source": [
        "num = float(input())\n",
        "\n",
        "if num < 0:\n",
        "  print(\"음수\")\n",
        "elif num > 0 :\n",
        "  print(\"양수\")\n",
        "else :\n",
        "  print(0)"
      ],
      "metadata": {
        "id": "LnJuG2BymW9X",
        "colab": {
          "base_uri": "https://localhost:8080/"
        },
        "outputId": "97ba9605-d9a5-40c7-e454-f103a0d673f4"
      },
      "execution_count": 5,
      "outputs": [
        {
          "output_type": "stream",
          "name": "stdout",
          "text": [
            "0\n",
            "0\n"
          ]
        }
      ]
    },
    {
      "cell_type": "markdown",
      "source": [
        "#### 3. 중첩 조건문\n",
        "- 성적에 따라 학점을 부여하는 프로그램을 작성\n",
        "```\n",
        "95 <= A+ < 100\n",
        "90 <= A0 < 95\n",
        "85 <= B+ < 90\n",
        "80 <= B0 < 85\n",
        "75 <= C+ < 80\n",
        "70 <= C0 < 75\n",
        "65 <= D+ < 70\n",
        "60 <= D0 < 65\n",
        "0  <= F  < 60\n",
        " ```"
      ],
      "metadata": {
        "id": "6m_7i42KmV0o"
      }
    },
    {
      "cell_type": "code",
      "source": [],
      "metadata": {
        "id": "74ahBk32mWM-"
      },
      "execution_count": null,
      "outputs": []
    },
    {
      "cell_type": "markdown",
      "source": [
        "#### 4. 짝수 홀수 판별기\n",
        "- 사용자가 입력한 숫자가 짝수인지 홀수인지 판별하는 프로그램을 작성\n",
        "- A에서 B를 나누었을 때 나머지를 변수 C에 저장하기 위한 코드\n",
        "```\n",
        "C = A % B\n",
        "```\n"
      ],
      "metadata": {
        "id": "a_oZIk_Pmh06"
      }
    },
    {
      "cell_type": "code",
      "source": [
        "a = int(input())\n",
        "\n",
        "if a % 2 == 0:\n",
        "  print(\"짝수임\")\n",
        "else:\n",
        "  print(\"홀수임\")"
      ],
      "metadata": {
        "id": "-8R7I5zHmoRX",
        "colab": {
          "base_uri": "https://localhost:8080/"
        },
        "outputId": "236843c7-dab9-4341-c981-6105f19e2d4f"
      },
      "execution_count": 8,
      "outputs": [
        {
          "output_type": "stream",
          "name": "stdout",
          "text": [
            "2\n",
            "짝수임\n"
          ]
        }
      ]
    },
    {
      "cell_type": "markdown",
      "source": [
        "#### 5. 비밀번호 확인 프로그램\n",
        "- 사용자가 입력한 비밀번호가 미리 설정한 비밀번호와 일치하는지 확인하는 프로그램 작성"
      ],
      "metadata": {
        "id": "1zCcg3Plmojb"
      }
    },
    {
      "cell_type": "code",
      "source": [
        "predefined_password =\"1q2w#E$R\"\n",
        "\n",
        "user_pw = input(\"input password: \")\n",
        "\n",
        "if predefined_password == user_pw:\n",
        "  print(\"자알 했소 비번이 맞소\")\n",
        "else:\n",
        "  print(\"해킹 꺼져라\")"
      ],
      "metadata": {
        "id": "0RS6GS9PmvYw",
        "colab": {
          "base_uri": "https://localhost:8080/"
        },
        "outputId": "a08fb47b-ee48-4221-b839-a6957fb4ed90"
      },
      "execution_count": 10,
      "outputs": [
        {
          "output_type": "stream",
          "name": "stdout",
          "text": [
            "input password: 1q2w#E$R\n",
            "자알 했소 비번이 맞소\n"
          ]
        }
      ]
    },
    {
      "cell_type": "markdown",
      "source": [
        "#### 6. 계산기\n",
        "- 사용자의 입력\n",
        "  - 입력 1: 숫자 A\n",
        "  - 입력 2: 연산을 의미하는 문자 B\n",
        "  - 입력 3: 숫자 C\n",
        "- 사용자가 입력한 것에 따라 계산 결과를 출력하는 프로그램 작성"
      ],
      "metadata": {
        "id": "9igT2-rTmvmC"
      }
    },
    {
      "cell_type": "code",
      "source": [],
      "metadata": {
        "id": "P4HMQkz0m2JA"
      },
      "execution_count": null,
      "outputs": []
    }
  ]
}